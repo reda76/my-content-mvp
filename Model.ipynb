{
 "cells": [
  {
   "cell_type": "markdown",
   "id": "d66d3794",
   "metadata": {},
   "source": [
    "# Modeling"
   ]
  },
  {
   "cell_type": "markdown",
   "id": "00933e6d",
   "metadata": {},
   "source": [
    "Nous allons dans ce notebook étabilir un modèle de recommandation, nous allons utiliser sklearn pour mener à bien ce projet."
   ]
  },
  {
   "cell_type": "markdown",
   "id": "41f296aa",
   "metadata": {},
   "source": [
    "### Import des librairies"
   ]
  },
  {
   "cell_type": "code",
   "execution_count": 1,
   "id": "363d55ca",
   "metadata": {},
   "outputs": [
    {
     "name": "stderr",
     "output_type": "stream",
     "text": [
      "C:\\tools\\Anaconda3\\envs\\P9\\lib\\site-packages\\tqdm\\auto.py:22: TqdmWarning: IProgress not found. Please update jupyter and ipywidgets. See https://ipywidgets.readthedocs.io/en/stable/user_install.html\n",
      "  from .autonotebook import tqdm as notebook_tqdm\n"
     ]
    }
   ],
   "source": [
    "import pandas as pd\n",
    "import numpy as np\n",
    "\n",
    "import matplotlib.pyplot as plt\n",
    "import implicit\n",
    "import scipy.sparse as sparse\n",
    "import pickle\n",
    "from random import randrange\n",
    "\n",
    "from sklearn.metrics.pairwise import cosine_similarity\n",
    "from sklearn.preprocessing import LabelEncoder"
   ]
  },
  {
   "cell_type": "markdown",
   "id": "44df0a01",
   "metadata": {},
   "source": [
    "### Import des données"
   ]
  },
  {
   "cell_type": "code",
   "execution_count": 2,
   "id": "60fcce83",
   "metadata": {},
   "outputs": [],
   "source": [
    "articles_categories_all = pd.read_csv('data/articles_categories.csv')\n",
    "articles_metadata = pd.read_csv(\"data/articles_metadata.csv\")\n",
    "clicks_sample = pd.read_csv(\"data/clicks_sample.csv\")\n",
    "df_embeddings = pd.read_csv(\"data/df_embeddings.csv\")"
   ]
  },
  {
   "cell_type": "markdown",
   "id": "ec893dad",
   "metadata": {},
   "source": [
    "## Calcul de similarité "
   ]
  },
  {
   "cell_type": "markdown",
   "id": "a6c7dee3",
   "metadata": {},
   "source": [
    "### Content-Based Filtering"
   ]
  },
  {
   "cell_type": "markdown",
   "id": "f55cf046",
   "metadata": {},
   "source": [
    "Le **Content-Based Filtering** est une méthode de filtrage basée sur le contenu qui permet aux systèmes de recommandation d'analyser des caractéristique (par exemple, le genre, l'acteur, le réalisateur d'un film) et de déterminer les préférences des utilisateurs à partir de ces caractéristiques. Le système peut ensuite utiliser ces préférences pour générer des recommandations personnalisées pour chaque utilisateur.\n",
    "\n",
    "Nous allons ici calculer la similarité entre les différents articles, nous allons utiliser seulement les variables pertinentes."
   ]
  },
  {
   "cell_type": "code",
   "execution_count": 3,
   "id": "72fc601c",
   "metadata": {},
   "outputs": [],
   "source": [
    "# Supprimer les doublons\n",
    "articles_categories = articles_categories_all.drop_duplicates(\n",
    "    subset='click_article_id')"
   ]
  },
  {
   "cell_type": "code",
   "execution_count": 4,
   "id": "d08d45f3",
   "metadata": {},
   "outputs": [
    {
     "name": "stdout",
     "output_type": "stream",
     "text": [
      "CPU times: total: 1min 7s\n",
      "Wall time: 1min 34s\n"
     ]
    }
   ],
   "source": [
    "%%time\n",
    "# Extraire les features\n",
    "features = [\n",
    "    'click_country', 'click_article_id', 'words_count', 'click_region',\n",
    "    'category_id', 'publisher_id'\n",
    "]\n",
    "\n",
    "# Calculer la similarité entre l'article lu et les articles recommandés\n",
    "similarities = cosine_similarity(articles_categories[features])"
   ]
  },
  {
   "cell_type": "code",
   "execution_count": 5,
   "id": "6b6043f4",
   "metadata": {},
   "outputs": [],
   "source": [
    "# Récupérer l'index de l'article lu\n",
    "article_id = articles_categories[\"click_article_id\"].iloc[0]\n",
    "clicked_article_index = articles_categories[\n",
    "    articles_categories['click_article_id'] == article_id].index[0]"
   ]
  },
  {
   "cell_type": "code",
   "execution_count": 6,
   "id": "03859548",
   "metadata": {},
   "outputs": [],
   "source": [
    "# Trouver les 5 articles les plus similaires\n",
    "similar_article_indices = similarities[clicked_article_index].argsort(\n",
    ")[-6:-1][::-1]"
   ]
  },
  {
   "cell_type": "code",
   "execution_count": 7,
   "id": "bef24f08",
   "metadata": {},
   "outputs": [],
   "source": [
    "# Récupérer les articles à partir de leur ID\n",
    "similar_articles_ids = [\n",
    "    articles_categories.index[i] for i in similar_article_indices\n",
    "]\n",
    "similar_articles = [articles_categories.loc[id] for id in similar_articles_ids]"
   ]
  },
  {
   "cell_type": "code",
   "execution_count": 8,
   "id": "b3d0e236",
   "metadata": {},
   "outputs": [],
   "source": [
    "# Récupérer les scores de similarité\n",
    "similarity_scores = similarities[clicked_article_index][\n",
    "    similar_article_indices]"
   ]
  },
  {
   "cell_type": "code",
   "execution_count": 9,
   "id": "f5f54ed1",
   "metadata": {},
   "outputs": [
    {
     "name": "stdout",
     "output_type": "stream",
     "text": [
      "Article : 157560\n",
      "Score de similarité : 0.9999999999611299\n",
      "\n",
      "Article : 158513\n",
      "Score de similarité : 0.9999999998926756\n",
      "\n",
      "Article : 158132\n",
      "Score de similarité : 0.9999999998766111\n",
      "\n",
      "Article : 156147\n",
      "Score de similarité : 0.999999999825046\n",
      "\n",
      "Article : 168887\n",
      "Score de similarité : 0.9999999997331097\n",
      "\n"
     ]
    }
   ],
   "source": [
    "# Afficher les 5 articles les plus similaires et leurs scores de similarité\n",
    "for article, score in zip(similar_articles, similarity_scores):\n",
    "    print('Article :', article['click_article_id'])\n",
    "    print('Score de similarité :', score)\n",
    "    print()"
   ]
  },
  {
   "cell_type": "markdown",
   "id": "d70b187a",
   "metadata": {},
   "source": [
    "Et les 5 articles les moins similaires."
   ]
  },
  {
   "cell_type": "code",
   "execution_count": 10,
   "id": "5ff7450b",
   "metadata": {},
   "outputs": [
    {
     "name": "stdout",
     "output_type": "stream",
     "text": [
      "Article : 94\n",
      "Score de similarité : 0.41846173841006656\n",
      "\n",
      "Article : 81\n",
      "Score de similarité : 0.37381691561598884\n",
      "\n",
      "Article : 69\n",
      "Score de similarité : 0.23239586066989854\n",
      "\n",
      "Article : 27\n",
      "Score de similarité : 0.17547506853040948\n",
      "\n",
      "Article : 3\n",
      "Score de similarité : 0.014822440893156607\n",
      "\n"
     ]
    }
   ],
   "source": [
    "similar_article_indices = similarities[clicked_article_index].argsort(\n",
    ")[0:5][::-1]\n",
    "# Récupérer les articles à partir de leur ID\n",
    "similar_articles_ids = [\n",
    "    articles_categories.index[i] for i in similar_article_indices\n",
    "]\n",
    "similar_articles = [articles_categories.loc[id] for id in similar_articles_ids]\n",
    "\n",
    "# Récupérer les scores de similarité\n",
    "similarity_scores = similarities[clicked_article_index][\n",
    "    similar_article_indices]\n",
    "\n",
    "# Afficher les 5 articles les plus similaires et leurs scores de similarité\n",
    "for article, score in zip(similar_articles, similarity_scores):\n",
    "    print('Article :', article['click_article_id'])\n",
    "    print('Score de similarité :', score)\n",
    "    print()"
   ]
  },
  {
   "cell_type": "markdown",
   "id": "a8c63711",
   "metadata": {},
   "source": [
    "### Collaborative Filtering"
   ]
  },
  {
   "cell_type": "markdown",
   "id": "70f1631c",
   "metadata": {},
   "source": [
    "Le **Collaborative Filtering** est une méthode de filtrage fondée sur les opinions d'autres utilisateurs. \n",
    "\n",
    "Les systèmes de recommandation qui utilisent ce type de filtrage recueillent les préférences et les opinions des utilisateurs sur différents objets de données et utilisent ces informations pour créer des groupes d'utilisateurs avec des goûts similaires. Ils peuvent ensuite utiliser ces groupes pour générer des recommandations personnalisées pour chaque utilisateur en fonction des préférences des autres membres du groupe.\n",
    "\n",
    "Le soucis ici, c'est que nous n'avons pas de rating (note d'articles par exemple ou de 'pouce en l'air'), nous devons donc d'abord établir un score pour chaque article en fonction de certaines variable comme le nombre de clique par article, l'ancienneté de l'article."
   ]
  },
  {
   "cell_type": "code",
   "execution_count": 45,
   "id": "e79b120e",
   "metadata": {},
   "outputs": [],
   "source": [
    "def df_rating(articles_metadata, dataframe_all):\n",
    "    # Fusionne les données des articles et des clics\n",
    "    user_interactions_df = pd.merge(articles_metadata,\n",
    "                                    dataframe_all,\n",
    "                                    left_on=['article_id'],\n",
    "                                    right_on=['click_article_id'])\n",
    "    \n",
    "    # Trie les données par user_id et date de session\n",
    "    user_interactions_df.sort_values(by=['user_id', 'session_start'],\n",
    "                                     ascending=True,\n",
    "                                     inplace=True)\n",
    "    \n",
    "    # Supprime les colonnes qui ne sont pas nécessaires\n",
    "    user_interactions_df.drop([\n",
    "        'click_article_id', 'session_start', 'session_size', 'click_timestamp'\n",
    "    ],\n",
    "                              axis=1,\n",
    "                              inplace=True)\n",
    "    \n",
    "    # Sélectionne les colonnes qui nous intéressent\n",
    "    user_interactions_df = user_interactions_df[[\n",
    "        'user_id', 'article_id', 'session_id'\n",
    "    ]]\n",
    "    \n",
    "    # Compte le nombre d'interactions entre l'utilisateur et l'article\n",
    "    user_interactions_df = user_interactions_df.groupby(\n",
    "        by=['user_id', 'article_id'], as_index=False).agg('count')\n",
    "    \n",
    "    # Renomme la colonne\n",
    "    user_interactions_df.rename(columns={\"session_id\": \"interactionStrength\"},\n",
    "                                inplace=True)\n",
    "    \n",
    "    # Trie par interactionStrength\n",
    "    user_interactions_df.sort_values(by=['interactionStrength'],\n",
    "                                     ascending=False)\n",
    "    \n",
    "    return user_interactions_df"
   ]
  },
  {
   "cell_type": "code",
   "execution_count": 46,
   "id": "f8b168b7",
   "metadata": {
    "scrolled": true
   },
   "outputs": [
    {
     "data": {
      "text/html": [
       "<div>\n",
       "<style scoped>\n",
       "    .dataframe tbody tr th:only-of-type {\n",
       "        vertical-align: middle;\n",
       "    }\n",
       "\n",
       "    .dataframe tbody tr th {\n",
       "        vertical-align: top;\n",
       "    }\n",
       "\n",
       "    .dataframe thead th {\n",
       "        text-align: right;\n",
       "    }\n",
       "</style>\n",
       "<table border=\"1\" class=\"dataframe\">\n",
       "  <thead>\n",
       "    <tr style=\"text-align: right;\">\n",
       "      <th></th>\n",
       "      <th>user_id</th>\n",
       "      <th>article_id</th>\n",
       "      <th>interactionStrength</th>\n",
       "    </tr>\n",
       "  </thead>\n",
       "  <tbody>\n",
       "    <tr>\n",
       "      <th>0</th>\n",
       "      <td>0</td>\n",
       "      <td>68866</td>\n",
       "      <td>1</td>\n",
       "    </tr>\n",
       "    <tr>\n",
       "      <th>1</th>\n",
       "      <td>0</td>\n",
       "      <td>87205</td>\n",
       "      <td>1</td>\n",
       "    </tr>\n",
       "    <tr>\n",
       "      <th>2</th>\n",
       "      <td>0</td>\n",
       "      <td>87224</td>\n",
       "      <td>1</td>\n",
       "    </tr>\n",
       "    <tr>\n",
       "      <th>3</th>\n",
       "      <td>0</td>\n",
       "      <td>96755</td>\n",
       "      <td>1</td>\n",
       "    </tr>\n",
       "    <tr>\n",
       "      <th>4</th>\n",
       "      <td>0</td>\n",
       "      <td>157541</td>\n",
       "      <td>1</td>\n",
       "    </tr>\n",
       "  </tbody>\n",
       "</table>\n",
       "</div>"
      ],
      "text/plain": [
       "   user_id  article_id  interactionStrength\n",
       "0        0       68866                    1\n",
       "1        0       87205                    1\n",
       "2        0       87224                    1\n",
       "3        0       96755                    1\n",
       "4        0      157541                    1"
      ]
     },
     "execution_count": 46,
     "metadata": {},
     "output_type": "execute_result"
    }
   ],
   "source": [
    "collab_data_df = articles_categories_all\n",
    "collab_data_df = df_rating(articles_metadata, collab_data_df)\n",
    "collab_data_df.head()"
   ]
  },
  {
   "cell_type": "code",
   "execution_count": 13,
   "id": "a8dc7e01",
   "metadata": {},
   "outputs": [
    {
     "data": {
      "text/plain": [
       "46033"
      ]
     },
     "execution_count": 13,
     "metadata": {},
     "output_type": "execute_result"
    }
   ],
   "source": [
    "collab_data_df['article_id'].nunique()"
   ]
  },
  {
   "cell_type": "markdown",
   "id": "78b7758f",
   "metadata": {},
   "source": [
    "Nous allons encoder nos identifiant d'article, cela va faciliter la suite puisque nous aurons besoin d'avoir une valeur inférieur à la longueur de notre csr_matrix."
   ]
  },
  {
   "cell_type": "code",
   "execution_count": 14,
   "id": "c2e0d304",
   "metadata": {
    "scrolled": true
   },
   "outputs": [
    {
     "data": {
      "text/html": [
       "<div>\n",
       "<style scoped>\n",
       "    .dataframe tbody tr th:only-of-type {\n",
       "        vertical-align: middle;\n",
       "    }\n",
       "\n",
       "    .dataframe tbody tr th {\n",
       "        vertical-align: top;\n",
       "    }\n",
       "\n",
       "    .dataframe thead th {\n",
       "        text-align: right;\n",
       "    }\n",
       "</style>\n",
       "<table border=\"1\" class=\"dataframe\">\n",
       "  <thead>\n",
       "    <tr style=\"text-align: right;\">\n",
       "      <th></th>\n",
       "      <th>user_id</th>\n",
       "      <th>article_id</th>\n",
       "      <th>interactionStrength</th>\n",
       "      <th>article_id_encode</th>\n",
       "    </tr>\n",
       "  </thead>\n",
       "  <tbody>\n",
       "    <tr>\n",
       "      <th>0</th>\n",
       "      <td>0</td>\n",
       "      <td>68866</td>\n",
       "      <td>1</td>\n",
       "      <td>9349</td>\n",
       "    </tr>\n",
       "    <tr>\n",
       "      <th>1</th>\n",
       "      <td>0</td>\n",
       "      <td>87205</td>\n",
       "      <td>1</td>\n",
       "      <td>12368</td>\n",
       "    </tr>\n",
       "    <tr>\n",
       "      <th>2</th>\n",
       "      <td>0</td>\n",
       "      <td>87224</td>\n",
       "      <td>1</td>\n",
       "      <td>12382</td>\n",
       "    </tr>\n",
       "    <tr>\n",
       "      <th>3</th>\n",
       "      <td>0</td>\n",
       "      <td>96755</td>\n",
       "      <td>1</td>\n",
       "      <td>13647</td>\n",
       "    </tr>\n",
       "    <tr>\n",
       "      <th>4</th>\n",
       "      <td>0</td>\n",
       "      <td>157541</td>\n",
       "      <td>1</td>\n",
       "      <td>21330</td>\n",
       "    </tr>\n",
       "    <tr>\n",
       "      <th>...</th>\n",
       "      <td>...</td>\n",
       "      <td>...</td>\n",
       "      <td>...</td>\n",
       "      <td>...</td>\n",
       "    </tr>\n",
       "    <tr>\n",
       "      <th>2950705</th>\n",
       "      <td>322894</td>\n",
       "      <td>168401</td>\n",
       "      <td>1</td>\n",
       "      <td>23140</td>\n",
       "    </tr>\n",
       "    <tr>\n",
       "      <th>2950706</th>\n",
       "      <td>322895</td>\n",
       "      <td>63746</td>\n",
       "      <td>1</td>\n",
       "      <td>8411</td>\n",
       "    </tr>\n",
       "    <tr>\n",
       "      <th>2950707</th>\n",
       "      <td>322895</td>\n",
       "      <td>289197</td>\n",
       "      <td>1</td>\n",
       "      <td>38069</td>\n",
       "    </tr>\n",
       "    <tr>\n",
       "      <th>2950708</th>\n",
       "      <td>322896</td>\n",
       "      <td>30760</td>\n",
       "      <td>1</td>\n",
       "      <td>2999</td>\n",
       "    </tr>\n",
       "    <tr>\n",
       "      <th>2950709</th>\n",
       "      <td>322896</td>\n",
       "      <td>157507</td>\n",
       "      <td>1</td>\n",
       "      <td>21318</td>\n",
       "    </tr>\n",
       "  </tbody>\n",
       "</table>\n",
       "<p>2950710 rows × 4 columns</p>\n",
       "</div>"
      ],
      "text/plain": [
       "         user_id  article_id  interactionStrength  article_id_encode\n",
       "0              0       68866                    1               9349\n",
       "1              0       87205                    1              12368\n",
       "2              0       87224                    1              12382\n",
       "3              0       96755                    1              13647\n",
       "4              0      157541                    1              21330\n",
       "...          ...         ...                  ...                ...\n",
       "2950705   322894      168401                    1              23140\n",
       "2950706   322895       63746                    1               8411\n",
       "2950707   322895      289197                    1              38069\n",
       "2950708   322896       30760                    1               2999\n",
       "2950709   322896      157507                    1              21318\n",
       "\n",
       "[2950710 rows x 4 columns]"
      ]
     },
     "execution_count": 14,
     "metadata": {},
     "output_type": "execute_result"
    }
   ],
   "source": [
    "# créons un LabelEncoder\n",
    "le = LabelEncoder()\n",
    "\n",
    "# appliquons le LabelEncoder à la colonne article_id\n",
    "collab_data_df['article_id_encode'] = le.fit_transform(\n",
    "    collab_data_df['article_id'])\n",
    "\n",
    "collab_data_df.to_csv('data/collab_data_df.csv', index=False)\n",
    "\n",
    "collab_data_df"
   ]
  },
  {
   "cell_type": "code",
   "execution_count": 15,
   "id": "f5edf28c",
   "metadata": {},
   "outputs": [
    {
     "name": "stdout",
     "output_type": "stream",
     "text": [
      "CPU times: total: 31.2 ms\n",
      "Wall time: 67 ms\n"
     ]
    }
   ],
   "source": [
    "%%time\n",
    "sparse_user_item = sparse.csr_matrix(\n",
    "    (collab_data_df['interactionStrength'].astype(float),\n",
    "     (collab_data_df['user_id'], collab_data_df['article_id_encode'])))"
   ]
  },
  {
   "cell_type": "code",
   "execution_count": 16,
   "id": "86f08cd7",
   "metadata": {},
   "outputs": [],
   "source": [
    "# %%time\n",
    "# colab_model = implicit.als.AlternatingLeastSquares(factors=64, regularization=0.05, alpha=2.0)\n",
    "# colab_model.fit(sparse_user_item)\n",
    "colab_model = pickle.load(open(\"colab_model.sav\", 'rb'))"
   ]
  },
  {
   "cell_type": "code",
   "execution_count": 17,
   "id": "e0d35f88",
   "metadata": {},
   "outputs": [],
   "source": [
    "USER_ID = collab_data_df['user_id'].iloc[0]\n",
    "\n",
    "item_ids, scores = colab_model.recommend(USER_ID,\n",
    "                                         sparse_user_item[USER_ID],\n",
    "                                         N=5,\n",
    "                                         filter_already_liked_items=True)"
   ]
  },
  {
   "cell_type": "code",
   "execution_count": 18,
   "id": "b5c187a0",
   "metadata": {},
   "outputs": [],
   "source": [
    "# Export le model\n",
    "# filename = 'colab_model.sav'\n",
    "# pickle.dump(colab_model, open(filename, 'wb'))"
   ]
  },
  {
   "cell_type": "code",
   "execution_count": 19,
   "id": "2aa309b5",
   "metadata": {},
   "outputs": [
    {
     "data": {
      "text/plain": [
       "(array([38579, 37233, 21945, 30903, 21621]),\n",
       " array([0.5715908 , 0.41498896, 0.3296845 , 0.31086028, 0.3007176 ],\n",
       "       dtype=float32))"
      ]
     },
     "execution_count": 19,
     "metadata": {},
     "output_type": "execute_result"
    }
   ],
   "source": [
    "(item_ids, scores)"
   ]
  },
  {
   "cell_type": "code",
   "execution_count": 20,
   "id": "d0968426",
   "metadata": {
    "scrolled": true
   },
   "outputs": [
    {
     "data": {
      "text/plain": [
       "array([21621, 21945, 30903, 37233, 38579], dtype=int64)"
      ]
     },
     "execution_count": 20,
     "metadata": {},
     "output_type": "execute_result"
    }
   ],
   "source": [
    "# Vérification si les recommandations sont bien des recommandations d'articles et non d'user\n",
    "np.unique(collab_data_df[collab_data_df['article_id_encode'].isin(item_ids)]['article_id_encode'])"
   ]
  },
  {
   "cell_type": "markdown",
   "id": "0af11c6f",
   "metadata": {},
   "source": [
    "#### Score"
   ]
  },
  {
   "cell_type": "markdown",
   "id": "8dbda736",
   "metadata": {},
   "source": [
    "Nous allons ici utiliser les catégories pour évaluer notre modèle, le but ici est de comparer la catégorie des articles recommandés, aux catégories lu par l'utilisateur."
   ]
  },
  {
   "cell_type": "code",
   "execution_count": 21,
   "id": "701f2fbe",
   "metadata": {},
   "outputs": [],
   "source": [
    "# Etant donné que les valeurs utilisées pour la recommandation sont les id_d'articles encodés,\n",
    "# nous devons en récuperer la véritable id des articles\n",
    "item_ids_list = item_ids.tolist()\n",
    "item_ids_article_id = []\n",
    "for i in item_ids_list:\n",
    "    try:\n",
    "        item_ids_article_id.append(collab_data_df.loc[collab_data_df['article_id_encode'] == i,\n",
    "                           'article_id'].values[0])\n",
    "    except:\n",
    "        print(i)"
   ]
  },
  {
   "cell_type": "code",
   "execution_count": 22,
   "id": "0f8e3347",
   "metadata": {},
   "outputs": [
    {
     "data": {
      "text/plain": [
       "[293114, 284985, 160940, 233658, 158906]"
      ]
     },
     "execution_count": 22,
     "metadata": {},
     "output_type": "execute_result"
    }
   ],
   "source": [
    "item_ids_article_id"
   ]
  },
  {
   "cell_type": "code",
   "execution_count": 23,
   "id": "84f88f1b",
   "metadata": {},
   "outputs": [],
   "source": [
    "# Place en cle les id d'article et en valeur leurs catégories\n",
    "category_id_article_recommande = {}\n",
    "\n",
    "for i in item_ids_article_id:\n",
    "    try:\n",
    "        category_id_article_recommande[i] = articles_categories_all.loc[\n",
    "            articles_categories_all['click_article_id'] == i,\n",
    "            'category_id'].values[0]\n",
    "    except:\n",
    "        print(i)"
   ]
  },
  {
   "cell_type": "code",
   "execution_count": 30,
   "id": "e4dc111e",
   "metadata": {},
   "outputs": [
    {
     "data": {
      "text/plain": [
       "{136, 186, 209, 281, 375, 431}"
      ]
     },
     "execution_count": 30,
     "metadata": {},
     "output_type": "execute_result"
    }
   ],
   "source": [
    "# Liste des catégories des articles lu par l'utilisateur\n",
    "user_consulted_categories = articles_categories_all.query(\n",
    "    'user_id == ' + str(USER_ID))['category_id'].tolist()\n",
    "user_consulted_categories = set(user_consulted_categories)\n",
    "user_consulted_categories"
   ]
  },
  {
   "cell_type": "code",
   "execution_count": 31,
   "id": "b2bfdc11",
   "metadata": {},
   "outputs": [
    {
     "name": "stdout",
     "output_type": "stream",
     "text": [
      "60.0\n"
     ]
    }
   ],
   "source": [
    "# Créer un dictionnaire pour stocker le nombre d'articles correspondant aux catégories consultées par l'utilisateur\n",
    "articles_correspondants = {}\n",
    "\n",
    "# Compter le nombre d'articles correspondant aux catégories consultées par l'utilisateur\n",
    "for article_id, category_id in category_id_article_recommande.items():\n",
    "    if category_id in user_consulted_categories:\n",
    "        if category_id in articles_correspondants:\n",
    "            articles_correspondants[category_id] += 1\n",
    "        else:\n",
    "            articles_correspondants[category_id] = 1\n",
    "\n",
    "# Calculer le score en pourcentage\n",
    "total_articles = len(category_id_article_recommande)\n",
    "correspondant_articles = sum(articles_correspondants.values())\n",
    "score_pourcentage = (correspondant_articles / total_articles) * 100\n",
    "\n",
    "print(score_pourcentage)"
   ]
  },
  {
   "cell_type": "markdown",
   "id": "ca0793f2",
   "metadata": {},
   "source": [
    "Nous devons maintenant établir un score globale sur tous les users."
   ]
  },
  {
   "cell_type": "code",
   "execution_count": 32,
   "id": "0a45c80e",
   "metadata": {},
   "outputs": [],
   "source": [
    "def score_total(user_id):\n",
    "    USER_ID = user_id\n",
    "\n",
    "    item_ids, scores = colab_model.recommend(USER_ID,\n",
    "                                             sparse_user_item[USER_ID],\n",
    "                                             N=5,\n",
    "                                             filter_already_liked_items=True)\n",
    "\n",
    "    item_ids_list = item_ids.tolist()\n",
    "    item_ids_article_id = []\n",
    "    for i in item_ids_list:\n",
    "        try:\n",
    "            item_ids_article_id.append(\n",
    "                collab_data_df.loc[collab_data_df['article_id_encode'] == i,\n",
    "                                   'article_id'].values[0])\n",
    "        except:\n",
    "            print(i)\n",
    "    # Place en cle les id d'article et en valeur leurs catégories\n",
    "    category_id_article_recommande = {}\n",
    "\n",
    "    for i in item_ids_article_id:\n",
    "        try:\n",
    "            category_id_article_recommande[i] = articles_categories_all.loc[\n",
    "                articles_categories_all['click_article_id'] == i,\n",
    "                'category_id'].values[0]\n",
    "        except:\n",
    "            print(i)\n",
    "\n",
    "    # Créer un dictionnaire pour stocker le nombre d'articles correspondant aux catégories consultées par l'utilisateur\n",
    "    articles_correspondants = {}\n",
    "\n",
    "    # Compter le nombre d'articles correspondant aux catégories consultées par l'utilisateur\n",
    "    for article_id, category_id in category_id_article_recommande.items():\n",
    "        if category_id in user_consulted_categories:\n",
    "            if category_id in articles_correspondants:\n",
    "                articles_correspondants[category_id] += 1\n",
    "            else:\n",
    "                articles_correspondants[category_id] = 1\n",
    "\n",
    "    # Calculer le score en pourcentage\n",
    "    total_articles = len(category_id_article_recommande)\n",
    "    correspondant_articles = sum(articles_correspondants.values())\n",
    "    score_pourcentage = (correspondant_articles / total_articles) * 100\n",
    "\n",
    "    return score_pourcentage"
   ]
  },
  {
   "cell_type": "code",
   "execution_count": 38,
   "id": "922ac2ca",
   "metadata": {},
   "outputs": [
    {
     "name": "stdout",
     "output_type": "stream",
     "text": [
      "Le score moyen est: 33.53863033738685\n",
      "CPU times: total: 45min 20s\n",
      "Wall time: 57min\n"
     ]
    }
   ],
   "source": [
    "%%time\n",
    "# Initialiser une liste pour stocker les scores de chaque user_id\n",
    "scores = []\n",
    "\n",
    "# Parcourir tous les user_id et calculer le score de chaque user_id\n",
    "for user_id in collab_data_df['user_id'].head(1000000).unique():\n",
    "    score = score_total(user_id)\n",
    "    scores.append(score)\n",
    "\n",
    "# Calculer le score moyen\n",
    "score_moyen = sum(scores) / len(scores)\n",
    "\n",
    "print('Le score moyen est:', score_moyen)"
   ]
  },
  {
   "cell_type": "markdown",
   "id": "a4404f7e",
   "metadata": {},
   "source": [
    "# Fonction de recommandation (collaborative filtering)"
   ]
  },
  {
   "cell_type": "code",
   "execution_count": 47,
   "id": "eda53a74",
   "metadata": {},
   "outputs": [],
   "source": [
    "def recommandation_5(USER_ID):\n",
    "    # import du modele\n",
    "    colab_model = pickle.load(open(\"colab_model.sav\", 'rb'))\n",
    "    \n",
    "    # import de la dataframe\n",
    "    collab_data_df = pd.read_csv(\"data/collab_data_df.csv\")\n",
    "    \n",
    "    sparse_user_item = sparse.csr_matrix(\n",
    "    (collab_data_df['interactionStrength'].astype(float),\n",
    "     (collab_data_df['user_id'], collab_data_df['article_id_encode'])))\n",
    "    item_ids, scores = colab_model.recommend(USER_ID,\n",
    "                                             sparse_user_item[USER_ID],\n",
    "                                             N=5,\n",
    "                                             filter_already_liked_items=True)\n",
    "    \n",
    "    # Récupère la vrai id des articles et non les encodés\n",
    "    item_ids_list = item_ids.tolist()\n",
    "    item_ids_article_id = []\n",
    "    for i in item_ids_list:\n",
    "        try:\n",
    "            item_ids_article_id.append(collab_data_df.loc[collab_data_df['article_id_encode'] == i,\n",
    "                               'article_id'].values[0])\n",
    "        except:\n",
    "            print(i)\n",
    "\n",
    "    article_recommandes = {}\n",
    "    for i in zip(item_ids_article_id, scores):\n",
    "        article_recommandes[str(i[0])] = str(i[1])\n",
    "    \n",
    "    \n",
    "    return article_recommandes"
   ]
  },
  {
   "cell_type": "code",
   "execution_count": 48,
   "id": "17cef1e0",
   "metadata": {},
   "outputs": [
    {
     "data": {
      "text/plain": [
       "{'225019': '0.58908427',\n",
       " '202557': '0.40266645',\n",
       " '225055': '0.39903554',\n",
       " '271261': '0.3558324',\n",
       " '31520': '0.35030746'}"
      ]
     },
     "execution_count": 48,
     "metadata": {},
     "output_type": "execute_result"
    }
   ],
   "source": [
    "recommandation_5(randrange(500))"
   ]
  }
 ],
 "metadata": {
  "kernelspec": {
   "display_name": "P9",
   "language": "python",
   "name": "p9"
  },
  "language_info": {
   "codemirror_mode": {
    "name": "ipython",
    "version": 3
   },
   "file_extension": ".py",
   "mimetype": "text/x-python",
   "name": "python",
   "nbconvert_exporter": "python",
   "pygments_lexer": "ipython3",
   "version": "3.10.8"
  },
  "toc": {
   "base_numbering": 1,
   "nav_menu": {},
   "number_sections": true,
   "sideBar": true,
   "skip_h1_title": false,
   "title_cell": "Table of Contents",
   "title_sidebar": "Contents",
   "toc_cell": false,
   "toc_position": {},
   "toc_section_display": true,
   "toc_window_display": false
  }
 },
 "nbformat": 4,
 "nbformat_minor": 5
}
